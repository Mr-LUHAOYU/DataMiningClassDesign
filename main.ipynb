{
 "cells": [
  {
   "metadata": {
    "ExecuteTime": {
     "end_time": "2025-02-19T15:23:39.968539Z",
     "start_time": "2025-02-19T15:23:39.949969Z"
    }
   },
   "cell_type": "code",
   "source": [
    "import numpy as np\n",
    "import pandas as pd\n",
    "from sklearn.metrics import accuracy_score, f1_score\n",
    "from imblearn.over_sampling import SMOTE\n",
    "import warnings\n",
    "warnings.filterwarnings(\"ignore\", category=FutureWarning)\n",
    "\n",
    "# ML\n",
    "from sklearn.linear_model import LogisticRegression\n",
    "from sklearn.tree import DecisionTreeClassifier\n",
    "from sklearn.naive_bayes import GaussianNB, MultinomialNB, BernoulliNB\n",
    "import lightgbm as lgb\n",
    "from sklearn.ensemble import AdaBoostClassifier\n",
    "from sklearn.ensemble import RandomForestClassifier\n",
    "from sklearn.neighbors import KNeighborsClassifier\n",
    "\n",
    "# DL\n",
    "import wandb\n",
    "import torch\n",
    "import torch.nn as nn\n",
    "import torch.optim as optim\n",
    "from torch.utils.data import DataLoader, TensorDataset"
   ],
   "id": "305eb125c80cec1e",
   "outputs": [],
   "execution_count": 31
  },
  {
   "metadata": {
    "ExecuteTime": {
     "end_time": "2025-02-19T15:01:43.267332Z",
     "start_time": "2025-02-19T15:01:42.123366Z"
    }
   },
   "cell_type": "code",
   "source": [
    "# 加载数据\n",
    "df_train = pd.read_csv(\"./dataset/train.csv\")\n",
    "df_valid = pd.read_csv(\"./dataset/val.csv\")\n",
    "df_test = pd.read_csv(\"./dataset/test.csv\")\n",
    "\n",
    "# 平衡正负例\n",
    "smote = SMOTE(sampling_strategy='auto', random_state=42)\n",
    "X_train = df_train.drop([\"HadHeartAttack\"], axis=1).values\n",
    "y_train = df_train[[\"HadHeartAttack\"]].values.ravel()\n",
    "X_train, y_train = smote.fit_resample(X_train, y_train)\n",
    "\n",
    "X_valid = df_valid.drop([\"HadHeartAttack\"], axis=1).values\n",
    "y_valid = df_valid[[\"HadHeartAttack\"]].values.ravel()\n",
    "X_valid, y_valid = smote.fit_resample(X_valid, y_valid)\n",
    "\n",
    "X_test = df_test.drop([\"HadHeartAttack\"], axis=1).values\n",
    "y_test = df_test[[\"HadHeartAttack\"]].values.ravel()\n",
    "X_test, y_test = smote.fit_resample(X_test, y_test)"
   ],
   "id": "d03dd67586ee96cb",
   "outputs": [],
   "execution_count": 2
  },
  {
   "metadata": {},
   "cell_type": "markdown",
   "source": "## 线性模型",
   "id": "3afe5a49d400ea6"
  },
  {
   "metadata": {},
   "cell_type": "markdown",
   "source": "### 逻辑回归",
   "id": "2c56dec3ce3a0d80"
  },
  {
   "metadata": {
    "ExecuteTime": {
     "end_time": "2025-02-19T15:17:06.609356Z",
     "start_time": "2025-02-19T15:17:05.975927Z"
    }
   },
   "cell_type": "code",
   "source": [
    "# 训练\n",
    "logreg = LogisticRegression(random_state=42)\n",
    "logreg.fit(X_train, y_train)\n",
    "\n",
    "# 测试\n",
    "y_pred = logreg.predict(X_test)\n",
    "acc = accuracy_score(y_test, y_pred)\n",
    "f1 = f1_score(y_test, y_pred)\n",
    "print(\"Logistic Regression 测试准确率：%.4f\" % acc)\n",
    "print(\"Logistic Regression 测试 F1 值：%.4f\" % f1)"
   ],
   "id": "9337e9a15386d1b7",
   "outputs": [
    {
     "name": "stdout",
     "output_type": "stream",
     "text": [
      "Logistic Regression 测试准确率：0.7987\n",
      "Logistic Regression 测试 F1 值：0.7926\n"
     ]
    }
   ],
   "execution_count": 16
  },
  {
   "metadata": {},
   "cell_type": "markdown",
   "source": "## 决策树模型",
   "id": "8c784fe2f96fcd4"
  },
  {
   "metadata": {
    "ExecuteTime": {
     "end_time": "2025-02-19T15:17:22.132453Z",
     "start_time": "2025-02-19T15:17:19.003474Z"
    }
   },
   "cell_type": "code",
   "source": [
    "# 训练\n",
    "decision_tree = DecisionTreeClassifier(criterion='gini', random_state=42)\n",
    "decision_tree.fit(X_train, y_train)\n",
    "\n",
    "# 测试\n",
    "y_pred = decision_tree.predict(X_test)\n",
    "acc = accuracy_score(y_test, y_pred)\n",
    "f1 = f1_score(y_test, y_pred)\n",
    "print(\"CART 测试准确率：%.4f\" % acc)\n",
    "print(\"CART 测试 F1 值：%.4f\" % f1)"
   ],
   "id": "af1cddb9a7dcb053",
   "outputs": [
    {
     "name": "stdout",
     "output_type": "stream",
     "text": [
      "CART 测试准确率：0.9290\n",
      "CART 测试 F1 值：0.9278\n"
     ]
    }
   ],
   "execution_count": 17
  },
  {
   "metadata": {},
   "cell_type": "markdown",
   "source": "## 贝叶斯模型",
   "id": "4b4164c1c43dc8ee"
  },
  {
   "metadata": {},
   "cell_type": "markdown",
   "source": "### 高斯朴素贝叶斯",
   "id": "79eb1ce438e7cd0"
  },
  {
   "metadata": {
    "ExecuteTime": {
     "end_time": "2025-02-19T15:17:40.969231Z",
     "start_time": "2025-02-19T15:17:40.754021Z"
    }
   },
   "cell_type": "code",
   "source": [
    "# 训练\n",
    "nb = GaussianNB()\n",
    "nb.fit(X_train, y_train)\n",
    "\n",
    "# 测试\n",
    "y_pred = nb.predict(X_test)\n",
    "acc = accuracy_score(y_test, y_pred)\n",
    "f1 = f1_score(y_test, y_pred)\n",
    "print(\"高斯朴素贝叶斯 测试准确率：%.4f\" % acc)\n",
    "print(\"高斯朴素贝叶斯 测试 F1 值：%.4f\" % f1)"
   ],
   "id": "25736c5190d5dfd",
   "outputs": [
    {
     "name": "stdout",
     "output_type": "stream",
     "text": [
      "高斯朴素贝叶斯 测试准确率：0.7681\n",
      "高斯朴素贝叶斯 测试 F1 值：0.7631\n"
     ]
    }
   ],
   "execution_count": 18
  },
  {
   "metadata": {},
   "cell_type": "markdown",
   "source": "### 多项式朴素贝叶斯",
   "id": "c56236c9380ce473"
  },
  {
   "metadata": {
    "ExecuteTime": {
     "end_time": "2025-02-19T15:17:49.629707Z",
     "start_time": "2025-02-19T15:17:49.559277Z"
    }
   },
   "cell_type": "code",
   "source": [
    "# 训练\n",
    "nb = MultinomialNB()\n",
    "nb.fit(X_train, y_train)\n",
    "\n",
    "# 测试\n",
    "y_pred = nb.predict(X_test)\n",
    "acc = accuracy_score(y_test, y_pred)\n",
    "f1 = f1_score(y_test, y_pred)\n",
    "print(\"多项式朴素贝叶斯 测试准确率：%.4f\" % acc)\n",
    "print(\"多项式朴素贝叶斯 测试 F1 值：%.4f\" % f1)"
   ],
   "id": "f76a3df3c134cc95",
   "outputs": [
    {
     "name": "stdout",
     "output_type": "stream",
     "text": [
      "多项式朴素贝叶斯 测试准确率：0.7801\n",
      "多项式朴素贝叶斯 测试 F1 值：0.7754\n"
     ]
    }
   ],
   "execution_count": 19
  },
  {
   "metadata": {},
   "cell_type": "markdown",
   "source": "### 伯努利朴素贝叶斯",
   "id": "837841f59f8bd26b"
  },
  {
   "metadata": {
    "ExecuteTime": {
     "end_time": "2025-02-19T15:17:58.807129Z",
     "start_time": "2025-02-19T15:17:58.584625Z"
    }
   },
   "cell_type": "code",
   "source": [
    "# 训练\n",
    "nb = BernoulliNB()\n",
    "nb.fit(X_train, y_train)\n",
    "\n",
    "# 测试\n",
    "y_pred = nb.predict(X_test)\n",
    "acc = accuracy_score(y_test, y_pred)\n",
    "f1 = f1_score(y_test, y_pred)\n",
    "print(\"伯努利朴素贝叶斯 测试准确率：%.4f\" % acc)\n",
    "print(\"伯努利朴素贝叶斯 测试 F1 值：%.4f\" % f1)"
   ],
   "id": "84c62a0a914dcccf",
   "outputs": [
    {
     "name": "stdout",
     "output_type": "stream",
     "text": [
      "伯努利朴素贝叶斯 测试准确率：0.8051\n",
      "伯努利朴素贝叶斯 测试 F1 值：0.8029\n"
     ]
    }
   ],
   "execution_count": 20
  },
  {
   "metadata": {},
   "cell_type": "markdown",
   "source": "## 集成学习",
   "id": "3942de468198105a"
  },
  {
   "metadata": {},
   "cell_type": "markdown",
   "source": [
    "### LightGBM\n",
    "\n",
    "<https://lightgbm.readthedocs.io/en/latest/index.html>"
   ],
   "id": "e8ce8148201ccecb"
  },
  {
   "metadata": {
    "ExecuteTime": {
     "end_time": "2025-02-19T15:18:08.560975Z",
     "start_time": "2025-02-19T15:18:07.353899Z"
    }
   },
   "cell_type": "code",
   "source": [
    "# 训练\n",
    "gbm = lgb.LGBMClassifier(random_state=42)\n",
    "gbm.fit(X_train, y_train, eval_set=[(X_valid, y_valid)], eval_metric=\"l1\", callbacks=[lgb.early_stopping(5)])\n",
    "\n",
    "# 测试\n",
    "X_test_df = pd.DataFrame(X_test, columns=df_train.drop([\"HadHeartAttack\"], axis=1).columns)\n",
    "y_pred = gbm.predict(X_test_df, num_iteration=gbm.best_iteration_)\n",
    "acc = accuracy_score(y_test, y_pred)\n",
    "f1 = f1_score(y_test, y_pred)\n",
    "print(\"LightGBM 测试准确率：%.4f\" % acc)\n",
    "print(\"LightGBM 测试 F1 值：%.4f\" % f1)"
   ],
   "id": "b4363ac9ef02ddb7",
   "outputs": [
    {
     "name": "stdout",
     "output_type": "stream",
     "text": [
      "[LightGBM] [Info] Number of positive: 139551, number of negative: 139551\n",
      "[LightGBM] [Info] Auto-choosing row-wise multi-threading, the overhead of testing was 0.020115 seconds.\n",
      "You can set `force_row_wise=true` to remove the overhead.\n",
      "And if memory is not enough, you can set `force_col_wise=true`.\n",
      "[LightGBM] [Info] Total Bins 9690\n",
      "[LightGBM] [Info] Number of data points in the train set: 279102, number of used features: 38\n",
      "[LightGBM] [Info] [binary:BoostFromScore]: pavg=0.500000 -> initscore=0.000000\n",
      "Training until validation scores don't improve for 5 rounds\n",
      "Did not meet early stopping. Best iteration is:\n",
      "[100]\tvalid_0's l1: 0.0463323\tvalid_0's binary_logloss: 0.0793068\n",
      "LightGBM 测试准确率：0.9715\n",
      "LightGBM 测试 F1 值：0.9711\n"
     ]
    }
   ],
   "execution_count": 21
  },
  {
   "metadata": {},
   "cell_type": "markdown",
   "source": "### Adaboost",
   "id": "3cb9c2368f99c5c8"
  },
  {
   "metadata": {
    "ExecuteTime": {
     "end_time": "2025-02-19T15:26:58.317207Z",
     "start_time": "2025-02-19T15:25:32.326376Z"
    }
   },
   "cell_type": "code",
   "source": [
    "base_classifier = DecisionTreeClassifier(max_depth=5)\n",
    "ada_boost = AdaBoostClassifier(base_classifier, n_estimators=50, random_state=42)\n",
    "\n",
    "# 训练\n",
    "ada_boost.fit(X_train, y_train)\n",
    "\n",
    "# 测试\n",
    "y_pred = ada_boost.predict(X_test)\n",
    "acc = accuracy_score(y_test, y_pred)\n",
    "f1 = f1_score(y_test, y_pred)\n",
    "print(\"AdaBoost 测试准确率：%.4f\" % acc)\n",
    "print(\"AdaBoost 测试 F1 值：%.4f\" % f1)"
   ],
   "id": "23f7df94f363bd6a",
   "outputs": [
    {
     "name": "stdout",
     "output_type": "stream",
     "text": [
      "AdaBoost 测试准确率：0.9679\n",
      "AdaBoost 测试 F1 值：0.9676\n"
     ]
    }
   ],
   "execution_count": 33
  },
  {
   "metadata": {},
   "cell_type": "markdown",
   "source": "### 随机森林",
   "id": "f0405a03a13dee61"
  },
  {
   "metadata": {
    "ExecuteTime": {
     "end_time": "2025-02-19T15:19:03.576266Z",
     "start_time": "2025-02-19T15:18:15.732750Z"
    }
   },
   "cell_type": "code",
   "source": [
    "# 训练\n",
    "rf = RandomForestClassifier(random_state=42)\n",
    "rf.fit(X_train, y_train)\n",
    "\n",
    "# 测试\n",
    "y_pred = rf.predict(X_test)\n",
    "acc = accuracy_score(y_test, y_pred)\n",
    "f1 = f1_score(y_test, y_pred)\n",
    "print(\"RandomForest 测试准确率：%.4f\" % acc)\n",
    "print(\"RandomForest 测试 F1 值：%.4f\" % f1)"
   ],
   "id": "4465960168cf0bf9",
   "outputs": [
    {
     "name": "stdout",
     "output_type": "stream",
     "text": [
      "RandomForest 测试准确率：0.9579\n",
      "RandomForest 测试 F1 值：0.9570\n"
     ]
    }
   ],
   "execution_count": 22
  },
  {
   "metadata": {},
   "cell_type": "markdown",
   "source": "## 懒惰学习",
   "id": "a3dd494bc7ad9992"
  },
  {
   "metadata": {
    "ExecuteTime": {
     "end_time": "2025-02-19T15:19:24.404012Z",
     "start_time": "2025-02-19T15:19:03.578812Z"
    }
   },
   "cell_type": "code",
   "source": [
    "# 训练\n",
    "knn = KNeighborsClassifier(n_neighbors=5)\n",
    "knn.fit(X_train, y_train)\n",
    "\n",
    "# 测试\n",
    "y_pred = knn.predict(X_test)\n",
    "acc = accuracy_score(y_test, y_pred)\n",
    "f1 = f1_score(y_test, y_pred)\n",
    "print(\"K近邻 测试准确率：%.4f\" % acc)\n",
    "print(\"K近邻 测试 F1 值：%.4f\" % f1)"
   ],
   "id": "691b783ab912b735",
   "outputs": [
    {
     "name": "stdout",
     "output_type": "stream",
     "text": [
      "K近邻 测试准确率：0.7313\n",
      "K近邻 测试 F1 值：0.6909\n"
     ]
    }
   ],
   "execution_count": 23
  },
  {
   "metadata": {},
   "cell_type": "markdown",
   "source": "## 深度模型",
   "id": "ab77f8516d70583"
  },
  {
   "metadata": {},
   "cell_type": "markdown",
   "source": "### FNN",
   "id": "9180e61bd035240d"
  },
  {
   "metadata": {
    "ExecuteTime": {
     "end_time": "2025-02-19T15:21:46.180224Z",
     "start_time": "2025-02-19T15:21:46.153529Z"
    }
   },
   "cell_type": "code",
   "source": [
    "\"\"\"模型搭建\"\"\"\n",
    "class FNN(nn.Module):\n",
    "    def __init__(self, feat_num):\n",
    "        super(FNN, self).__init__()\n",
    "        self.fc1 = nn.Linear(feat_num, 32)\n",
    "        self.fc2 = nn.Linear(32, 16)\n",
    "        self.fc3 = nn.Linear(16, 1)\n",
    "        self.sigmoid = nn.Sigmoid()\n",
    "\n",
    "    def forward(self, x):\n",
    "        x = torch.relu(self.fc1(x))\n",
    "        x = torch.relu(self.fc2(x))\n",
    "        x = self.fc3(x)\n",
    "        return self.sigmoid(x)\n",
    "\n",
    "\"\"\"数据重构\"\"\"\n",
    "X_train_tensor = torch.tensor(X_train, dtype=torch.float32)\n",
    "y_train_tensor = torch.tensor(y_train, dtype=torch.bool)\n",
    "X_valid_tensor = torch.tensor(X_valid, dtype=torch.float32)\n",
    "y_valid_tensor = torch.tensor(y_valid, dtype=torch.bool)\n",
    "X_test_tensor = torch.tensor(X_test, dtype=torch.float32)\n",
    "y_test_tensor = torch.tensor(y_test, dtype=torch.bool)\n",
    "train_dataset = TensorDataset(X_train_tensor, y_train_tensor)\n",
    "valid_dataset = TensorDataset(X_valid_tensor, y_valid_tensor)\n",
    "train_loader = DataLoader(train_dataset, batch_size=64, shuffle=True)\n",
    "valid_loader = DataLoader(valid_dataset, batch_size=64, shuffle=False)"
   ],
   "id": "b9a76f19e08901ec",
   "outputs": [],
   "execution_count": 28
  },
  {
   "metadata": {
    "ExecuteTime": {
     "end_time": "2025-02-19T08:47:12.633019Z",
     "start_time": "2025-02-19T08:46:46.599701Z"
    }
   },
   "cell_type": "code",
   "outputs": [
    {
     "data": {
      "text/plain": [
       "<IPython.core.display.HTML object>"
      ],
      "text/html": [
       "Tracking run with wandb version 0.19.1"
      ]
     },
     "metadata": {},
     "output_type": "display_data"
    },
    {
     "data": {
      "text/plain": [
       "<IPython.core.display.HTML object>"
      ],
      "text/html": [
       "Run data is saved locally in <code>E:\\python\\DataMiningClassDesign\\wandb\\run-20250219_164646-4d2l64gd</code>"
      ]
     },
     "metadata": {},
     "output_type": "display_data"
    },
    {
     "data": {
      "text/plain": [
       "<IPython.core.display.HTML object>"
      ],
      "text/html": [
       "Syncing run <strong><a href='https://wandb.ai/19220448-nanjing-normal-university/heart-disease-prediction/runs/4d2l64gd' target=\"_blank\">run</a></strong> to <a href='https://wandb.ai/19220448-nanjing-normal-university/heart-disease-prediction' target=\"_blank\">Weights & Biases</a> (<a href='https://wandb.me/developer-guide' target=\"_blank\">docs</a>)<br>"
      ]
     },
     "metadata": {},
     "output_type": "display_data"
    },
    {
     "data": {
      "text/plain": [
       "<IPython.core.display.HTML object>"
      ],
      "text/html": [
       " View project at <a href='https://wandb.ai/19220448-nanjing-normal-university/heart-disease-prediction' target=\"_blank\">https://wandb.ai/19220448-nanjing-normal-university/heart-disease-prediction</a>"
      ]
     },
     "metadata": {},
     "output_type": "display_data"
    },
    {
     "data": {
      "text/plain": [
       "<IPython.core.display.HTML object>"
      ],
      "text/html": [
       " View run at <a href='https://wandb.ai/19220448-nanjing-normal-university/heart-disease-prediction/runs/4d2l64gd' target=\"_blank\">https://wandb.ai/19220448-nanjing-normal-university/heart-disease-prediction/runs/4d2l64gd</a>"
      ]
     },
     "metadata": {},
     "output_type": "display_data"
    },
    {
     "name": "stdout",
     "output_type": "stream",
     "text": [
      "Epoch 1/3\n",
      "Train Loss: 0.4064, Train Accuracy: 0.8124\n",
      "Valid Loss: 0.3875, Valid Accuracy: 0.8233\n",
      "Epoch 2/3\n",
      "Train Loss: 0.3769, Train Accuracy: 0.8312\n",
      "Valid Loss: 0.3785, Valid Accuracy: 0.8309\n",
      "Epoch 3/3\n",
      "Train Loss: 0.3643, Train Accuracy: 0.8394\n",
      "Valid Loss: 0.3707, Valid Accuracy: 0.8371\n"
     ]
    },
    {
     "data": {
      "text/plain": [
       "<IPython.core.display.HTML object>"
      ],
      "text/html": []
     },
     "metadata": {},
     "output_type": "display_data"
    },
    {
     "data": {
      "text/plain": [
       "<IPython.core.display.HTML object>"
      ],
      "text/html": [
       "<br>    <style><br>        .wandb-row {<br>            display: flex;<br>            flex-direction: row;<br>            flex-wrap: wrap;<br>            justify-content: flex-start;<br>            width: 100%;<br>        }<br>        .wandb-col {<br>            display: flex;<br>            flex-direction: column;<br>            flex-basis: 100%;<br>            flex: 1;<br>            padding: 10px;<br>        }<br>    </style><br><div class=\"wandb-row\"><div class=\"wandb-col\"><h3>Run history:</h3><br/><table class=\"wandb\"><tr><td>epoch</td><td>▁▁▁▁▁▁▁▁▁▁▁▁▁▅▅▅▅▅▅▅▅▅▅▅████████████████</td></tr><tr><td>step</td><td>▁▂▂▃▃▄▆▆▆▆▇██▁▂▂▂▃▃▃▃▃▃▄▄▅▆▆▆▆▇▁▂▂▃▄▅▆▆█</td></tr><tr><td>train_accuracy</td><td>▁▃▃▄▄▅▅▅▆▆▆▆▇▇▇▇▇▇▇▇▇▇▇▇▇███████████████</td></tr><tr><td>train_loss</td><td>█▄▄▃▄▅▄▅▄▃▅▃▅▂▄▆▃▃▂▃▃▂▃▃▃▄▁▄▃▂▃▁▂▅▂▁▄▃▂▂</td></tr><tr><td>valid_accuracy</td><td>▁▅█</td></tr><tr><td>valid_loss</td><td>█▄▁</td></tr></table><br/></div><div class=\"wandb-col\"><h3>Run summary:</h3><br/><table class=\"wandb\"><tr><td>epoch</td><td>3</td></tr><tr><td>step</td><td>4361</td></tr><tr><td>train_accuracy</td><td>0.83941</td></tr><tr><td>train_loss</td><td>0.36425</td></tr><tr><td>valid_accuracy</td><td>0.83714</td></tr><tr><td>valid_loss</td><td>0.37066</td></tr></table><br/></div></div>"
      ]
     },
     "metadata": {},
     "output_type": "display_data"
    },
    {
     "data": {
      "text/plain": [
       "<IPython.core.display.HTML object>"
      ],
      "text/html": [
       " View run <strong style=\"color:#cdcd00\">run</strong> at: <a href='https://wandb.ai/19220448-nanjing-normal-university/heart-disease-prediction/runs/4d2l64gd' target=\"_blank\">https://wandb.ai/19220448-nanjing-normal-university/heart-disease-prediction/runs/4d2l64gd</a><br> View project at: <a href='https://wandb.ai/19220448-nanjing-normal-university/heart-disease-prediction' target=\"_blank\">https://wandb.ai/19220448-nanjing-normal-university/heart-disease-prediction</a><br>Synced 5 W&B file(s), 0 media file(s), 0 artifact file(s) and 0 other file(s)"
      ]
     },
     "metadata": {},
     "output_type": "display_data"
    },
    {
     "data": {
      "text/plain": [
       "<IPython.core.display.HTML object>"
      ],
      "text/html": [
       "Find logs at: <code>.\\wandb\\run-20250219_164646-4d2l64gd\\logs</code>"
      ]
     },
     "metadata": {},
     "output_type": "display_data"
    }
   ],
   "execution_count": 26,
   "source": [
    "\"\"\"开始训练\"\"\"\n",
    "wandb.init(project='heart-disease-prediction', name='run')\n",
    "model = FNN(feat_num=X_train.shape[1])\n",
    "optimizer = optim.Adam(model.parameters(), lr=0.001)\n",
    "criterion = nn.BCELoss()\n",
    "num_epochs = 3\n",
    "best_valid_accuracy = 0\n",
    "\n",
    "for epoch in range(num_epochs):\n",
    "    model.train()\n",
    "    running_loss = 0.0\n",
    "    correct = 0\n",
    "    total = 0\n",
    "\n",
    "    # 训练阶段\n",
    "    for step, (inputs, labels) in enumerate(train_loader):\n",
    "        optimizer.zero_grad()  # 清除梯度\n",
    "        outputs = model(inputs).squeeze()  # 计算预测值\n",
    "        loss = criterion(outputs, labels.float())  # 计算损失\n",
    "        loss.backward()  # 反向传播\n",
    "        optimizer.step()  # 更新参数\n",
    "\n",
    "        running_loss += loss.item()\n",
    "\n",
    "        # 计算准确率\n",
    "        predicted = (outputs > 0.5).float()  # 二分类阈值设置为0.5\n",
    "        correct += (predicted == labels).sum().item()\n",
    "        total += labels.size(0)\n",
    "\n",
    "        # 记录每个 step 的训练损失和准确率\n",
    "        train_accuracy = correct / total\n",
    "        wandb.log({\n",
    "            'train_loss': loss.item(),\n",
    "            'train_accuracy': train_accuracy,\n",
    "            'epoch': epoch + 1,\n",
    "            'step': step + 1,\n",
    "        })\n",
    "\n",
    "    # 计算训练集的损失和准确率\n",
    "    train_loss = running_loss / len(train_loader)\n",
    "    train_accuracy = correct / total\n",
    "\n",
    "    # 验证阶段\n",
    "    model.eval()\n",
    "    valid_correct = 0\n",
    "    valid_total = 0\n",
    "    valid_loss = 0\n",
    "\n",
    "    with torch.no_grad():  # 评估时不需要计算梯度\n",
    "        for inputs, labels in valid_loader:\n",
    "            outputs = model(inputs).squeeze()\n",
    "            loss = criterion(outputs, labels.float())\n",
    "            valid_loss += loss.item()\n",
    "\n",
    "            predicted = (outputs > 0.5).float()\n",
    "            valid_correct += (predicted == labels).sum().item()\n",
    "            valid_total += labels.size(0)\n",
    "\n",
    "    # 计算验证集的损失和准确率\n",
    "    valid_loss = valid_loss / len(valid_loader)\n",
    "    valid_accuracy = valid_correct / valid_total\n",
    "\n",
    "    # 记录每个 epoch 的训练和验证数据\n",
    "    wandb.log({\n",
    "        'train_loss': train_loss,\n",
    "        'train_accuracy': train_accuracy,\n",
    "        'valid_loss': valid_loss,\n",
    "        'valid_accuracy': valid_accuracy,\n",
    "        'epoch': epoch + 1,\n",
    "    })\n",
    "\n",
    "    print(f\"Epoch {epoch+1}/{num_epochs}\")\n",
    "    print(f\"Train Loss: {train_loss:.4f}, Train Accuracy: {train_accuracy:.4f}\")\n",
    "    print(f\"Valid Loss: {valid_loss:.4f}, Valid Accuracy: {valid_accuracy:.4f}\")\n",
    "\n",
    "    # 保存最好的模型\n",
    "    if valid_accuracy > best_valid_accuracy:\n",
    "        best_valid_accuracy = valid_accuracy\n",
    "        torch.save(model.state_dict(), \"./models/best-fnn-model.pth\")\n",
    "\n",
    "wandb.finish()"
   ],
   "id": "710176ec831e59bc"
  },
  {
   "metadata": {
    "ExecuteTime": {
     "end_time": "2025-02-19T15:22:01.180261Z",
     "start_time": "2025-02-19T15:22:01.150802Z"
    }
   },
   "cell_type": "code",
   "source": [
    "\"\"\"模型测试\"\"\"\n",
    "model = FNN(feat_num=X_train.shape[1])\n",
    "model.load_state_dict(torch.load(\"./models/best-fnn-model.pth\"))\n",
    "model.eval()\n",
    "\n",
    "test_correct = 0\n",
    "test_total = 0\n",
    "\n",
    "TP, FP, TN, FN = 0, 0, 0, 0\n",
    "\n",
    "with torch.no_grad():\n",
    "    outputs = model(X_test_tensor).squeeze()\n",
    "    predicted = (outputs > 0.5).float()\n",
    "\n",
    "    TP += ((predicted == 1) & (y_test_tensor == 1)).sum().item()\n",
    "    FP += ((predicted == 1) & (y_test_tensor == 0)).sum().item()\n",
    "    TN += ((predicted == 0) & (y_test_tensor == 0)).sum().item()\n",
    "    FN += ((predicted == 0) & (y_test_tensor == 1)).sum().item()\n",
    "\n",
    "    test_correct += (predicted == y_test_tensor).sum().item()\n",
    "    test_total += y_test_tensor.size(0)\n",
    "\n",
    "# 计算 F1-score\n",
    "precision = TP / (TP + FP) if (TP + FP) > 0 else 0\n",
    "recall = TP / (TP + FN) if (TP + FN) > 0 else 0\n",
    "f1 = 2 * (precision * recall) / (precision + recall) if (precision + recall) > 0 else 0\n",
    "\n",
    "test_accuracy = test_correct / test_total\n",
    "\n",
    "print(\"FNN 测试准确率：%.4f\" % test_accuracy)\n",
    "print(\"FNN 测试 F1-score：%.4f\" % f1)"
   ],
   "id": "2d734112c4b89b5f",
   "outputs": [
    {
     "name": "stdout",
     "output_type": "stream",
     "text": [
      "FNN 测试准确率：0.8242\n",
      "FNN 测试 F1-score：0.8248\n"
     ]
    }
   ],
   "execution_count": 30
  }
 ],
 "metadata": {
  "kernelspec": {
   "display_name": "Python 3",
   "language": "python",
   "name": "python3"
  },
  "language_info": {
   "codemirror_mode": {
    "name": "ipython",
    "version": 2
   },
   "file_extension": ".py",
   "mimetype": "text/x-python",
   "name": "python",
   "nbconvert_exporter": "python",
   "pygments_lexer": "ipython2",
   "version": "2.7.6"
  }
 },
 "nbformat": 4,
 "nbformat_minor": 5
}
