{
 "cells": [
  {
   "cell_type": "code",
   "outputs": [],
   "source": [
    "import numpy as np\n",
    "import matplotlib.pyplot as plt\n",
    "import pandas as pd\n",
    "from scipy.stats import chi2_contingency, pointbiserialr\n",
    "\n",
    "from IPython.core.interactiveshell import InteractiveShell\n",
    "InteractiveShell.ast_node_interactivity = \"all\""
   ],
   "metadata": {
    "collapsed": false,
    "ExecuteTime": {
     "end_time": "2025-02-20T05:33:06.456164600Z",
     "start_time": "2025-02-20T05:33:06.432551800Z"
    }
   },
   "id": "d4912e9455964a6a",
   "execution_count": 11
  },
  {
   "cell_type": "markdown",
   "source": [
    "# 相关性分析"
   ],
   "metadata": {
    "collapsed": false
   },
   "id": "4fd37cf43c96252e"
  },
  {
   "cell_type": "code",
   "outputs": [],
   "source": [
    "df = pd.read_csv('../dataset/encoded_data.csv')\n",
    "data = pd.read_csv('../dataset/encoded_data.csv')\n",
    "data_True = data[data['HadHeartAttack'] == 1]\n",
    "data_False = data[data['HadHeartAttack'] == 0]\n",
    "\n",
    "data = pd.concat([data_True.sample(n=len(data_False), random_state=42, replace=True), data_False])"
   ],
   "metadata": {
    "collapsed": false,
    "ExecuteTime": {
     "end_time": "2025-02-20T05:33:07.400594500Z",
     "start_time": "2025-02-20T05:33:06.461164300Z"
    }
   },
   "id": "c9e0a70c868480fd",
   "execution_count": 12
  },
  {
   "cell_type": "markdown",
   "source": [],
   "metadata": {
    "collapsed": false
   },
   "id": "59c9ff0e14fb0843"
  },
  {
   "cell_type": "code",
   "outputs": [
    {
     "name": "stdout",
     "output_type": "stream",
     "text": [
      "实数列： ['HeightInMeters', 'WeightInKilograms', 'BMI']\n",
      "自然数列： ['GeneralHealth', 'PhysicalHealthDays', 'MentalHealthDays', 'LastCheckupTime', 'SleepHours', 'RemovedTeeth', 'HadDiabetes', 'SmokerStatus', 'ECigaretteUsage', 'RaceEthnicityCategory', 'AgeCategory', 'TetanusLast10Tdap', 'CovidPos']\n",
      "二值分类列： ['Sex', 'PhysicalActivities', 'HadHeartAttack', 'HadAngina', 'HadStroke', 'HadAsthma', 'HadSkinCancer', 'HadCOPD', 'HadDepressiveDisorder', 'HadKidneyDisease', 'HadArthritis', 'DeafOrHardOfHearing', 'BlindOrVisionDifficulty', 'DifficultyConcentrating', 'DifficultyWalking', 'DifficultyDressingBathing', 'DifficultyErrands', 'ChestScan', 'AlcoholDrinkers', 'HIVTesting', 'FluVaxLast12', 'PneumoVaxEver', 'HighRiskLastYear']\n"
     ]
    }
   ],
   "source": [
    "# 分类函数\n",
    "def classify_columns(df):\n",
    "    real_numbers = []\n",
    "    natural_numbers = []\n",
    "    binary_classification = []\n",
    "\n",
    "    for column in df.columns:\n",
    "        if df[column].unique().shape[0] == 2:\n",
    "            binary_classification.append(column)\n",
    "        elif (df[column] % 1 == 0).all():\n",
    "            natural_numbers.append(column)\n",
    "        else:\n",
    "            real_numbers.append(column)\n",
    "    \n",
    "    return real_numbers, natural_numbers, binary_classification\n",
    "\n",
    "# 调用分类函数\n",
    "real_numbers, natural_numbers, binary_classification = classify_columns(df)\n",
    "\n",
    "print(\"实数列：\", real_numbers)\n",
    "print(\"自然数列：\", natural_numbers)\n",
    "print(\"二值分类列：\", binary_classification)"
   ],
   "metadata": {
    "collapsed": false,
    "ExecuteTime": {
     "end_time": "2025-02-20T05:33:07.518650200Z",
     "start_time": "2025-02-20T05:33:07.402605300Z"
    }
   },
   "id": "5b5cf879373df386",
   "execution_count": 13
  },
  {
   "cell_type": "markdown",
   "source": [
    "## 二值分类列"
   ],
   "metadata": {
    "collapsed": false
   },
   "id": "745354446e3a634f"
  },
  {
   "cell_type": "code",
   "outputs": [
    {
     "data": {
      "text/plain": "                       Column  Confidence      Lift  Chi2 Statistic  \\\n0              HadHeartAttack    1.000000  2.000000   465170.000009   \n1                   HadAngina    0.504302  1.869600   129929.866636   \n2                   HadStroke    0.187272  1.703075    28406.943638   \n3            HadKidneyDisease    0.140997  1.554844    14279.961010   \n4                     HadCOPD    0.225043  1.532462    22699.617727   \n5   DifficultyDressingBathing    0.096532  1.522376     8592.565331   \n6           DifficultyWalking    0.382051  1.483485    37716.245006   \n7           DifficultyErrands    0.159532  1.445265    11442.211637   \n8     BlindOrVisionDifficulty    0.116167  1.433711     7714.040475   \n9         DeafOrHardOfHearing    0.199168  1.432384    14044.441839   \n10                  ChestScan    0.768113  1.311075    63678.204756   \n11              HadSkinCancer    0.143800  1.272994     4414.183845   \n12               HadArthritis    0.576597  1.269809    28165.679238   \n13    DifficultyConcentrating    0.173049  1.254918     4834.591604   \n14              PneumoVaxEver    0.651060  1.248520    31306.564770   \n15                  HadAsthma    0.184881  1.115996     1242.493913   \n16      HadDepressiveDisorder    0.246553  1.095782     1238.739424   \n17               FluVaxLast12    0.627021  1.085876     4687.400610   \n18                 HIVTesting    0.313741  0.952351      518.724334   \n19         PhysicalActivities    0.632920  0.892141    13212.548074   \n20            AlcoholDrinkers    0.397980  0.831873    12059.969813   \n21                        Sex    0.367720  0.820773    12127.430197   \n22           HighRiskLastYear    0.025027  0.724952     1257.759203   \n\n          P-value  \n0    0.000000e+00  \n1    0.000000e+00  \n2    0.000000e+00  \n3    0.000000e+00  \n4    0.000000e+00  \n5    0.000000e+00  \n6    0.000000e+00  \n7    0.000000e+00  \n8    0.000000e+00  \n9    0.000000e+00  \n10   0.000000e+00  \n11   0.000000e+00  \n12   0.000000e+00  \n13   0.000000e+00  \n14   0.000000e+00  \n15  3.550741e-272  \n16  2.324085e-271  \n17   0.000000e+00  \n18  8.018269e-115  \n19   0.000000e+00  \n20   0.000000e+00  \n21   0.000000e+00  \n22  1.709448e-275  ",
      "text/html": "<div>\n<style scoped>\n    .dataframe tbody tr th:only-of-type {\n        vertical-align: middle;\n    }\n\n    .dataframe tbody tr th {\n        vertical-align: top;\n    }\n\n    .dataframe thead th {\n        text-align: right;\n    }\n</style>\n<table border=\"1\" class=\"dataframe\">\n  <thead>\n    <tr style=\"text-align: right;\">\n      <th></th>\n      <th>Column</th>\n      <th>Confidence</th>\n      <th>Lift</th>\n      <th>Chi2 Statistic</th>\n      <th>P-value</th>\n    </tr>\n  </thead>\n  <tbody>\n    <tr>\n      <th>0</th>\n      <td>HadHeartAttack</td>\n      <td>1.000000</td>\n      <td>2.000000</td>\n      <td>465170.000009</td>\n      <td>0.000000e+00</td>\n    </tr>\n    <tr>\n      <th>1</th>\n      <td>HadAngina</td>\n      <td>0.504302</td>\n      <td>1.869600</td>\n      <td>129929.866636</td>\n      <td>0.000000e+00</td>\n    </tr>\n    <tr>\n      <th>2</th>\n      <td>HadStroke</td>\n      <td>0.187272</td>\n      <td>1.703075</td>\n      <td>28406.943638</td>\n      <td>0.000000e+00</td>\n    </tr>\n    <tr>\n      <th>3</th>\n      <td>HadKidneyDisease</td>\n      <td>0.140997</td>\n      <td>1.554844</td>\n      <td>14279.961010</td>\n      <td>0.000000e+00</td>\n    </tr>\n    <tr>\n      <th>4</th>\n      <td>HadCOPD</td>\n      <td>0.225043</td>\n      <td>1.532462</td>\n      <td>22699.617727</td>\n      <td>0.000000e+00</td>\n    </tr>\n    <tr>\n      <th>5</th>\n      <td>DifficultyDressingBathing</td>\n      <td>0.096532</td>\n      <td>1.522376</td>\n      <td>8592.565331</td>\n      <td>0.000000e+00</td>\n    </tr>\n    <tr>\n      <th>6</th>\n      <td>DifficultyWalking</td>\n      <td>0.382051</td>\n      <td>1.483485</td>\n      <td>37716.245006</td>\n      <td>0.000000e+00</td>\n    </tr>\n    <tr>\n      <th>7</th>\n      <td>DifficultyErrands</td>\n      <td>0.159532</td>\n      <td>1.445265</td>\n      <td>11442.211637</td>\n      <td>0.000000e+00</td>\n    </tr>\n    <tr>\n      <th>8</th>\n      <td>BlindOrVisionDifficulty</td>\n      <td>0.116167</td>\n      <td>1.433711</td>\n      <td>7714.040475</td>\n      <td>0.000000e+00</td>\n    </tr>\n    <tr>\n      <th>9</th>\n      <td>DeafOrHardOfHearing</td>\n      <td>0.199168</td>\n      <td>1.432384</td>\n      <td>14044.441839</td>\n      <td>0.000000e+00</td>\n    </tr>\n    <tr>\n      <th>10</th>\n      <td>ChestScan</td>\n      <td>0.768113</td>\n      <td>1.311075</td>\n      <td>63678.204756</td>\n      <td>0.000000e+00</td>\n    </tr>\n    <tr>\n      <th>11</th>\n      <td>HadSkinCancer</td>\n      <td>0.143800</td>\n      <td>1.272994</td>\n      <td>4414.183845</td>\n      <td>0.000000e+00</td>\n    </tr>\n    <tr>\n      <th>12</th>\n      <td>HadArthritis</td>\n      <td>0.576597</td>\n      <td>1.269809</td>\n      <td>28165.679238</td>\n      <td>0.000000e+00</td>\n    </tr>\n    <tr>\n      <th>13</th>\n      <td>DifficultyConcentrating</td>\n      <td>0.173049</td>\n      <td>1.254918</td>\n      <td>4834.591604</td>\n      <td>0.000000e+00</td>\n    </tr>\n    <tr>\n      <th>14</th>\n      <td>PneumoVaxEver</td>\n      <td>0.651060</td>\n      <td>1.248520</td>\n      <td>31306.564770</td>\n      <td>0.000000e+00</td>\n    </tr>\n    <tr>\n      <th>15</th>\n      <td>HadAsthma</td>\n      <td>0.184881</td>\n      <td>1.115996</td>\n      <td>1242.493913</td>\n      <td>3.550741e-272</td>\n    </tr>\n    <tr>\n      <th>16</th>\n      <td>HadDepressiveDisorder</td>\n      <td>0.246553</td>\n      <td>1.095782</td>\n      <td>1238.739424</td>\n      <td>2.324085e-271</td>\n    </tr>\n    <tr>\n      <th>17</th>\n      <td>FluVaxLast12</td>\n      <td>0.627021</td>\n      <td>1.085876</td>\n      <td>4687.400610</td>\n      <td>0.000000e+00</td>\n    </tr>\n    <tr>\n      <th>18</th>\n      <td>HIVTesting</td>\n      <td>0.313741</td>\n      <td>0.952351</td>\n      <td>518.724334</td>\n      <td>8.018269e-115</td>\n    </tr>\n    <tr>\n      <th>19</th>\n      <td>PhysicalActivities</td>\n      <td>0.632920</td>\n      <td>0.892141</td>\n      <td>13212.548074</td>\n      <td>0.000000e+00</td>\n    </tr>\n    <tr>\n      <th>20</th>\n      <td>AlcoholDrinkers</td>\n      <td>0.397980</td>\n      <td>0.831873</td>\n      <td>12059.969813</td>\n      <td>0.000000e+00</td>\n    </tr>\n    <tr>\n      <th>21</th>\n      <td>Sex</td>\n      <td>0.367720</td>\n      <td>0.820773</td>\n      <td>12127.430197</td>\n      <td>0.000000e+00</td>\n    </tr>\n    <tr>\n      <th>22</th>\n      <td>HighRiskLastYear</td>\n      <td>0.025027</td>\n      <td>0.724952</td>\n      <td>1257.759203</td>\n      <td>1.709448e-275</td>\n    </tr>\n  </tbody>\n</table>\n</div>"
     },
     "execution_count": 14,
     "metadata": {},
     "output_type": "execute_result"
    }
   ],
   "source": [
    "binary_data = data[binary_classification]\n",
    "\n",
    "# 计算每个属性与 HadHeartAttack 的概率\n",
    "# 计算联合概率 P(A & HadHeartAttack)\n",
    "joint_prob = binary_data.copy()\n",
    "joint_prob['HadHeartAttack'] = data['HadHeartAttack']  # 添加 HadHeartAttack 列用于联合计算\n",
    "\n",
    "# 计算每一列的置信度和提升度\n",
    "confidence_dict = {}\n",
    "lift_dict = {}\n",
    "chi2_dict = {}\n",
    "p_value_dict = {}\n",
    "\n",
    "for column in binary_data.columns:\n",
    "    # 计算 P(A & HadHeartAttack)\n",
    "    joint_count = len(joint_prob[(joint_prob[column] == 1) & (joint_prob['HadHeartAttack'] == 1)])\n",
    "    # 计算 P(A)\n",
    "    prob_A = binary_data[column].sum() / len(binary_data)\n",
    "    # 计算 P(HadHeartAttack)\n",
    "    prob_HadHeartAttack = data['HadHeartAttack'].sum() / len(data)\n",
    "    # 计算 P(A | HadHeartAttack)\n",
    "    prob_A_given_HadHeartAttack = joint_count / data['HadHeartAttack'].sum()\n",
    "\n",
    "    # 置信度 = P(A | HadHeartAttack)\n",
    "    confidence = prob_A_given_HadHeartAttack\n",
    "    confidence_dict[column] = confidence\n",
    "\n",
    "    # 提升度 = P(A & HadHeartAttack) / (P(A) * P(HadHeartAttack))\n",
    "    lift = joint_count / (prob_A * prob_HadHeartAttack * len(binary_data))\n",
    "    lift_dict[column] = lift\n",
    "    \n",
    "    # 卡方检验\n",
    "    contingency_table = pd.crosstab(binary_data[column], data['HadHeartAttack'])\n",
    "    chi2, p, dof, expected = chi2_contingency(contingency_table)\n",
    "    chi2_dict[column] = chi2\n",
    "    p_value_dict[column] = p\n",
    "\n",
    "# 创建结果的 DataFrame\n",
    "result_df = pd.DataFrame({\n",
    "    'Column': binary_data.columns,\n",
    "    'Confidence': confidence_dict.values(),\n",
    "    'Lift': lift_dict.values(),\n",
    "    'Chi2 Statistic': chi2_dict.values(),\n",
    "    'P-value': p_value_dict.values()\n",
    "})\n",
    "\n",
    "# 输出结果\n",
    "result_df.sort_values(\n",
    "    by='Lift', ascending=False, ignore_index=True, inplace=True\n",
    ")\n",
    "result_df.to_csv(\n",
    "    '../asserts/binary_classification_correlation2.csv', index=False\n",
    ")\n",
    "result_df"
   ],
   "metadata": {
    "collapsed": false,
    "ExecuteTime": {
     "end_time": "2025-02-20T05:33:08.527865300Z",
     "start_time": "2025-02-20T05:33:07.521688600Z"
    }
   },
   "id": "bdb38bdcf4fea72c",
   "execution_count": 14
  },
  {
   "cell_type": "markdown",
   "source": [
    "## 自然数列"
   ],
   "metadata": {
    "collapsed": false
   },
   "id": "4e0729a28eb55c92"
  },
  {
   "cell_type": "code",
   "outputs": [
    {
     "data": {
      "text/plain": "                   Column  Chi2 Statistic        P-value  Cramér's V\n0           GeneralHealth    66389.736622   0.000000e+00    0.377783\n1      PhysicalHealthDays    28714.481597   0.000000e+00    0.248452\n2        MentalHealthDays     5788.218926   0.000000e+00    0.111549\n3         LastCheckupTime    14777.769409   0.000000e+00    0.178237\n4              SleepHours    12177.121724   0.000000e+00    0.161795\n5            RemovedTeeth    47979.510785   0.000000e+00    0.321159\n6             HadDiabetes    32796.764687   0.000000e+00    0.265526\n7            SmokerStatus    19438.485134   0.000000e+00    0.204420\n8         ECigaretteUsage     1279.547938  4.031836e-277    0.052447\n9   RaceEthnicityCategory     1944.172194   0.000000e+00    0.064649\n10            AgeCategory    77671.794510   0.000000e+00    0.408624\n11      TetanusLast10Tdap     4228.507905   0.000000e+00    0.095342\n12               CovidPos     2240.325141   0.000000e+00    0.069398",
      "text/html": "<div>\n<style scoped>\n    .dataframe tbody tr th:only-of-type {\n        vertical-align: middle;\n    }\n\n    .dataframe tbody tr th {\n        vertical-align: top;\n    }\n\n    .dataframe thead th {\n        text-align: right;\n    }\n</style>\n<table border=\"1\" class=\"dataframe\">\n  <thead>\n    <tr style=\"text-align: right;\">\n      <th></th>\n      <th>Column</th>\n      <th>Chi2 Statistic</th>\n      <th>P-value</th>\n      <th>Cramér's V</th>\n    </tr>\n  </thead>\n  <tbody>\n    <tr>\n      <th>0</th>\n      <td>GeneralHealth</td>\n      <td>66389.736622</td>\n      <td>0.000000e+00</td>\n      <td>0.377783</td>\n    </tr>\n    <tr>\n      <th>1</th>\n      <td>PhysicalHealthDays</td>\n      <td>28714.481597</td>\n      <td>0.000000e+00</td>\n      <td>0.248452</td>\n    </tr>\n    <tr>\n      <th>2</th>\n      <td>MentalHealthDays</td>\n      <td>5788.218926</td>\n      <td>0.000000e+00</td>\n      <td>0.111549</td>\n    </tr>\n    <tr>\n      <th>3</th>\n      <td>LastCheckupTime</td>\n      <td>14777.769409</td>\n      <td>0.000000e+00</td>\n      <td>0.178237</td>\n    </tr>\n    <tr>\n      <th>4</th>\n      <td>SleepHours</td>\n      <td>12177.121724</td>\n      <td>0.000000e+00</td>\n      <td>0.161795</td>\n    </tr>\n    <tr>\n      <th>5</th>\n      <td>RemovedTeeth</td>\n      <td>47979.510785</td>\n      <td>0.000000e+00</td>\n      <td>0.321159</td>\n    </tr>\n    <tr>\n      <th>6</th>\n      <td>HadDiabetes</td>\n      <td>32796.764687</td>\n      <td>0.000000e+00</td>\n      <td>0.265526</td>\n    </tr>\n    <tr>\n      <th>7</th>\n      <td>SmokerStatus</td>\n      <td>19438.485134</td>\n      <td>0.000000e+00</td>\n      <td>0.204420</td>\n    </tr>\n    <tr>\n      <th>8</th>\n      <td>ECigaretteUsage</td>\n      <td>1279.547938</td>\n      <td>4.031836e-277</td>\n      <td>0.052447</td>\n    </tr>\n    <tr>\n      <th>9</th>\n      <td>RaceEthnicityCategory</td>\n      <td>1944.172194</td>\n      <td>0.000000e+00</td>\n      <td>0.064649</td>\n    </tr>\n    <tr>\n      <th>10</th>\n      <td>AgeCategory</td>\n      <td>77671.794510</td>\n      <td>0.000000e+00</td>\n      <td>0.408624</td>\n    </tr>\n    <tr>\n      <th>11</th>\n      <td>TetanusLast10Tdap</td>\n      <td>4228.507905</td>\n      <td>0.000000e+00</td>\n      <td>0.095342</td>\n    </tr>\n    <tr>\n      <th>12</th>\n      <td>CovidPos</td>\n      <td>2240.325141</td>\n      <td>0.000000e+00</td>\n      <td>0.069398</td>\n    </tr>\n  </tbody>\n</table>\n</div>"
     },
     "execution_count": 15,
     "metadata": {},
     "output_type": "execute_result"
    }
   ],
   "source": [
    "natural_data = data[natural_numbers]\n",
    "target = data['HadHeartAttack']  # 二值属性\n",
    "\n",
    "# 定义计算 Cramér's V 的函数\n",
    "def cramers_v(chi2, n, k, r):\n",
    "    return np.sqrt(chi2 / (n * min(k - 1, r - 1)))\n",
    "\n",
    "# 初始化字典来存储卡方检验和 Cramér's V 结果\n",
    "chi2_dict = {}\n",
    "p_value_dict = {}\n",
    "cramers_v_dict = {}\n",
    "\n",
    "# 对每一列进行卡方检验和 Cramér's V 计算\n",
    "for column in natural_data.columns:\n",
    "    # 计算卡方检验的列联表\n",
    "    contingency_table = pd.crosstab(natural_data[column], target)\n",
    "    \n",
    "    # 计算卡方检验结果\n",
    "    chi2, p, dof, expected = chi2_contingency(contingency_table)\n",
    "    \n",
    "    # 计算 Cramér's V\n",
    "    n = contingency_table.sum().sum()  # 总样本数\n",
    "    k = contingency_table.shape[0]  # 行数\n",
    "    r = contingency_table.shape[1]  # 列数\n",
    "    cramers_v_value = cramers_v(chi2, n, k, r)\n",
    "    \n",
    "    # 保存结果\n",
    "    chi2_dict[column] = chi2\n",
    "    p_value_dict[column] = p\n",
    "    cramers_v_dict[column] = cramers_v_value\n",
    "\n",
    "# 将结果汇总到一个 DataFrame 中\n",
    "results_df = pd.DataFrame({\n",
    "    'Column': natural_data.columns,\n",
    "    'Chi2 Statistic': chi2_dict.values(),\n",
    "    'P-value': p_value_dict.values(),\n",
    "    'Cramér\\'s V': cramers_v_dict.values()\n",
    "})\n",
    "\n",
    "# 显示结果\n",
    "results_df.to_csv(\n",
    "    '../asserts/natural_numbers_correlation2.csv', index=False\n",
    ")\n",
    "results_df"
   ],
   "metadata": {
    "collapsed": false,
    "ExecuteTime": {
     "end_time": "2025-02-20T05:33:09.080128600Z",
     "start_time": "2025-02-20T05:33:08.529005900Z"
    }
   },
   "id": "f98e3729e5f06e2",
   "execution_count": 15
  },
  {
   "cell_type": "markdown",
   "source": [
    "## 实数列"
   ],
   "metadata": {
    "collapsed": false
   },
   "id": "4c6890aafb8460a8"
  },
  {
   "cell_type": "code",
   "outputs": [
    {
     "data": {
      "text/plain": "              Column  Point-Biserial Correlation        P-value\n0     HeightInMeters                    0.048349  9.510020e-239\n1  WeightInKilograms                    0.083338   0.000000e+00\n2                BMI                    0.067051   0.000000e+00",
      "text/html": "<div>\n<style scoped>\n    .dataframe tbody tr th:only-of-type {\n        vertical-align: middle;\n    }\n\n    .dataframe tbody tr th {\n        vertical-align: top;\n    }\n\n    .dataframe thead th {\n        text-align: right;\n    }\n</style>\n<table border=\"1\" class=\"dataframe\">\n  <thead>\n    <tr style=\"text-align: right;\">\n      <th></th>\n      <th>Column</th>\n      <th>Point-Biserial Correlation</th>\n      <th>P-value</th>\n    </tr>\n  </thead>\n  <tbody>\n    <tr>\n      <th>0</th>\n      <td>HeightInMeters</td>\n      <td>0.048349</td>\n      <td>9.510020e-239</td>\n    </tr>\n    <tr>\n      <th>1</th>\n      <td>WeightInKilograms</td>\n      <td>0.083338</td>\n      <td>0.000000e+00</td>\n    </tr>\n    <tr>\n      <th>2</th>\n      <td>BMI</td>\n      <td>0.067051</td>\n      <td>0.000000e+00</td>\n    </tr>\n  </tbody>\n</table>\n</div>"
     },
     "execution_count": 16,
     "metadata": {},
     "output_type": "execute_result"
    }
   ],
   "source": [
    "real_data = data[real_numbers]\n",
    "target = data['HadHeartAttack']  # 二值属性\n",
    "\n",
    "# 存储结果的字典\n",
    "correlation_dict = {}\n",
    "p_value_dict = {}\n",
    "\n",
    "# 对每个连续属性列进行点双列相关系数计算\n",
    "for column in real_data.columns:\n",
    "    # 计算点双列相关系数（Point-Biserial Correlation）\n",
    "    corr, p_value = pointbiserialr(real_data[column], target)\n",
    "    correlation_dict[column] = corr\n",
    "    p_value_dict[column] = p_value\n",
    "\n",
    "# 汇总结果到 DataFrame 中\n",
    "results_df = pd.DataFrame({\n",
    "    'Column': real_data.columns,\n",
    "    'Point-Biserial Correlation': correlation_dict.values(),\n",
    "    'P-value': p_value_dict.values()\n",
    "})\n",
    "results_df.to_csv(\n",
    "    '../asserts/real_numbers_correlation2.csv', index=False\n",
    ")\n",
    "results_df"
   ],
   "metadata": {
    "collapsed": false,
    "ExecuteTime": {
     "end_time": "2025-02-20T05:33:09.165606100Z",
     "start_time": "2025-02-20T05:33:09.080128600Z"
    }
   },
   "id": "5d62d8ed96a2dc18",
   "execution_count": 16
  }
 ],
 "metadata": {
  "kernelspec": {
   "display_name": "Python 3",
   "language": "python",
   "name": "python3"
  },
  "language_info": {
   "codemirror_mode": {
    "name": "ipython",
    "version": 2
   },
   "file_extension": ".py",
   "mimetype": "text/x-python",
   "name": "python",
   "nbconvert_exporter": "python",
   "pygments_lexer": "ipython2",
   "version": "2.7.6"
  }
 },
 "nbformat": 4,
 "nbformat_minor": 5
}
